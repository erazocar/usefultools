{
  "nbformat": 4,
  "nbformat_minor": 0,
  "metadata": {
    "colab": {
      "name": "Untitled1.ipynb",
      "provenance": [],
      "authorship_tag": "ABX9TyP1LLIAX4UpXngoYz71zC5s",
      "include_colab_link": true
    },
    "kernelspec": {
      "name": "python3",
      "display_name": "Python 3"
    }
  },
  "cells": [
    {
      "cell_type": "markdown",
      "metadata": {
        "id": "view-in-github",
        "colab_type": "text"
      },
      "source": [
        "<a href=\"https://colab.research.google.com/github/erazocar/usefultools/blob/main/modifycross.ipynb\" target=\"_parent\"><img src=\"https://colab.research.google.com/assets/colab-badge.svg\" alt=\"Open In Colab\"/></a>"
      ]
    },
    {
      "cell_type": "markdown",
      "metadata": {
        "id": "ZoGN4lNA04Rp"
      },
      "source": [
        "**Extracting info from TELEMAC2D results**"
      ]
    },
    {
      "cell_type": "markdown",
      "metadata": {
        "id": "Uo_aMts11Dzo"
      },
      "source": [
        "Please use this notebook if you have a specific using pandas and numpy. "
      ]
    },
    {
      "cell_type": "code",
      "metadata": {
        "id": "659Pza7k05K1"
      },
      "source": [
        "import pandas as pd\r\n",
        "import numpy as np\r\n",
        "import matplotlib as mp"
      ],
      "execution_count": 1,
      "outputs": []
    },
    {
      "cell_type": "markdown",
      "metadata": {
        "id": "WZmImnrD4s4L"
      },
      "source": [
        "Upload the documents that you would like to read and modify by clicking on the folder symbol.\r\n",
        "\r\n"
      ]
    },
    {
      "cell_type": "code",
      "metadata": {
        "id": "lg5W5cxI8jIK"
      },
      "source": [
        "df = pd.read_csv('myfile.txt')"
      ],
      "execution_count": 4,
      "outputs": []
    },
    {
      "cell_type": "code",
      "metadata": {
        "colab": {
          "base_uri": "https://localhost:8080/",
          "height": 206
        },
        "id": "dxvr_4LW80x8",
        "outputId": "71428e5e-888f-43eb-dad8-3aea93f6ab80"
      },
      "source": [
        "df.head()"
      ],
      "execution_count": 5,
      "outputs": [
        {
          "output_type": "execute_result",
          "data": {
            "text/html": [
              "<div>\n",
              "<style scoped>\n",
              "    .dataframe tbody tr th:only-of-type {\n",
              "        vertical-align: middle;\n",
              "    }\n",
              "\n",
              "    .dataframe tbody tr th {\n",
              "        vertical-align: top;\n",
              "    }\n",
              "\n",
              "    .dataframe thead th {\n",
              "        text-align: right;\n",
              "    }\n",
              "</style>\n",
              "<table border=\"1\" class=\"dataframe\">\n",
              "  <thead>\n",
              "    <tr style=\"text-align: right;\">\n",
              "      <th></th>\n",
              "      <th>TITLE = \"FLUXES FOR \"</th>\n",
              "    </tr>\n",
              "  </thead>\n",
              "  <tbody>\n",
              "    <tr>\n",
              "      <th>0</th>\n",
              "      <td>VARIABLES = TIME Rhein_upstream_(Fm780900 Rhe...</td>\n",
              "    </tr>\n",
              "    <tr>\n",
              "      <th>1</th>\n",
              "      <td>401.30405139297       2502.2886750558      ...</td>\n",
              "    </tr>\n",
              "    <tr>\n",
              "      <th>2</th>\n",
              "      <td>2544.4234040020       2520.3263074833      ...</td>\n",
              "    </tr>\n",
              "    <tr>\n",
              "      <th>3</th>\n",
              "      <td>604.57027166055       2500.4650450835      ...</td>\n",
              "    </tr>\n",
              "    <tr>\n",
              "      <th>4</th>\n",
              "      <td>2584.4340985782       2507.4962080400      ...</td>\n",
              "    </tr>\n",
              "  </tbody>\n",
              "</table>\n",
              "</div>"
            ],
            "text/plain": [
              "                               TITLE = \"FLUXES FOR \"\n",
              "0   VARIABLES = TIME Rhein_upstream_(Fm780900 Rhe...\n",
              "1     401.30405139297       2502.2886750558      ...\n",
              "2     2544.4234040020       2520.3263074833      ...\n",
              "3     604.57027166055       2500.4650450835      ...\n",
              "4     2584.4340985782       2507.4962080400      ..."
            ]
          },
          "metadata": {
            "tags": []
          },
          "execution_count": 5
        }
      ]
    }
  ]
}