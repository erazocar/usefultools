{
  "nbformat": 4,
  "nbformat_minor": 0,
  "metadata": {
    "colab": {
      "name": "Untitled1.ipynb",
      "provenance": [],
      "authorship_tag": "ABX9TyPcf7SLlToFM7gPPRIxs2wt",
      "include_colab_link": true
    },
    "kernelspec": {
      "name": "python3",
      "display_name": "Python 3"
    }
  },
  "cells": [
    {
      "cell_type": "markdown",
      "metadata": {
        "id": "view-in-github",
        "colab_type": "text"
      },
      "source": [
        "<a href=\"https://colab.research.google.com/github/erazocar/usefultools/blob/main/Untitled1.ipynb\" target=\"_parent\"><img src=\"https://colab.research.google.com/assets/colab-badge.svg\" alt=\"Open In Colab\"/></a>"
      ]
    },
    {
      "cell_type": "markdown",
      "metadata": {
        "id": "ZoGN4lNA04Rp"
      },
      "source": [
        "**Extracting info from TELEMAC2D results**"
      ]
    },
    {
      "cell_type": "markdown",
      "metadata": {
        "id": "Uo_aMts11Dzo"
      },
      "source": [
        "Please use this notebook if you have a specific using pandas and numpy. "
      ]
    },
    {
      "cell_type": "code",
      "metadata": {
        "id": "659Pza7k05K1"
      },
      "source": [
        "import pandas as pd\r\n",
        "import numpy as np\r\n",
        "import matplotlib as mp"
      ],
      "execution_count": 149,
      "outputs": []
    },
    {
      "cell_type": "markdown",
      "metadata": {
        "id": "WZmImnrD4s4L"
      },
      "source": [
        "Upload the documents that you would like to read and modify by clicking on the folder symbol.\r\n",
        "\r\n"
      ]
    },
    {
      "cell_type": "code",
      "metadata": {
        "id": "lg5W5cxI8jIK"
      },
      "source": [
        "df = pd.read_csv('myfile.txt', header=None, delim_whitespace=True,skiprows=1)"
      ],
      "execution_count": 154,
      "outputs": []
    },
    {
      "cell_type": "code",
      "metadata": {
        "colab": {
          "base_uri": "https://localhost:8080/"
        },
        "id": "WY9NYnTKuE0Q",
        "outputId": "41b07016-a0d2-41f4-caec-5edae0f08b08"
      },
      "source": [
        "df.head"
      ],
      "execution_count": 155,
      "outputs": [
        {
          "output_type": "execute_result",
          "data": {
            "text/plain": [
              "<bound method NDFrame.head of                      0  ...                  8\n",
              "0            VARIABLES  ...  DYKE_BREACH802000\n",
              "1      401.30405139297  ...                NaN\n",
              "2      2544.4234040020  ...                NaN\n",
              "3      604.57027166055  ...                NaN\n",
              "4      2584.4340985782  ...                NaN\n",
              "...                ...  ...                ...\n",
              "27428  3741.5819483557  ...                NaN\n",
              "27429  1999953.3227812  ...                NaN\n",
              "27430  3743.3375344980  ...                NaN\n",
              "27431  2000000.0000000  ...                NaN\n",
              "27432  3741.5011257094  ...                NaN\n",
              "\n",
              "[27433 rows x 9 columns]>"
            ]
          },
          "metadata": {
            "tags": []
          },
          "execution_count": 155
        }
      ]
    },
    {
      "cell_type": "markdown",
      "metadata": {
        "id": "Gl7Y2NRla2hz"
      },
      "source": [
        "If you have a problem with your headings, consider removing it and manually insert them or read them from the data frame."
      ]
    },
    {
      "cell_type": "code",
      "metadata": {
        "id": "yb59TpcaW6ty"
      },
      "source": [
        "headings = list(df.loc[0])"
      ],
      "execution_count": 113,
      "outputs": []
    },
    {
      "cell_type": "code",
      "metadata": {
        "colab": {
          "base_uri": "https://localhost:8080/"
        },
        "id": "lTbyBZ32uUuD",
        "outputId": "85d03fc1-9eab-449e-90ca-7e4bf26a2ccf"
      },
      "source": [
        "print(headings)"
      ],
      "execution_count": 114,
      "outputs": [
        {
          "output_type": "stream",
          "text": [
            "['VARIABLES', '=', 'TIME', 'Rhein_upstream_(Fm780900', 'Rhein_mid0_(Fm789600)', 'Rhein_mid_(Fm798300)', 'Rhein_mid2_(Fm807600)', 'Rhein_wesel_(Fm813800)', 'DYKE_BREACH802000']\n"
          ],
          "name": "stdout"
        }
      ]
    },
    {
      "cell_type": "markdown",
      "metadata": {
        "id": "yvxylKZjuYKd"
      },
      "source": [
        "Remove the first two variables from the header."
      ]
    },
    {
      "cell_type": "code",
      "metadata": {
        "id": "tRFj3o2vv3Mq"
      },
      "source": [
        "del headings[0:2]"
      ],
      "execution_count": 121,
      "outputs": []
    },
    {
      "cell_type": "markdown",
      "metadata": {
        "id": "yrH1YaShyC-X"
      },
      "source": [
        "After modifying the headers, drop the row containing headers on the original dataframe and modify it with the updated version."
      ]
    },
    {
      "cell_type": "code",
      "metadata": {
        "colab": {
          "base_uri": "https://localhost:8080/"
        },
        "id": "RiwmMXh_z_uo",
        "outputId": "7e470837-1481-4907-888a-b29f160220aa"
      },
      "source": [
        "print(headings)"
      ],
      "execution_count": 140,
      "outputs": [
        {
          "output_type": "stream",
          "text": [
            "['Rhein_upstream_(Fm780900', 'Rhein_mid0_(Fm789600)', 'Rhein_mid_(Fm798300)', 'Rhein_mid2_(Fm807600)', 'Rhein_wesel_(Fm813800)', 'DYKE_BREACH802000']\n"
          ],
          "name": "stdout"
        }
      ]
    },
    {
      "cell_type": "code",
      "metadata": {
        "id": "7cb5J8ofuXnm"
      },
      "source": [
        "df1 = df.drop([0], axis=0)"
      ],
      "execution_count": 182,
      "outputs": []
    },
    {
      "cell_type": "code",
      "metadata": {
        "id": "gaSwG0dm9tyt"
      },
      "source": [
        "pd.set_option(\"display.max_rows\", 10, \"display.max_columns\", 5)"
      ],
      "execution_count": 189,
      "outputs": []
    },
    {
      "cell_type": "code",
      "metadata": {
        "colab": {
          "base_uri": "https://localhost:8080/"
        },
        "id": "z0FDnv0MKdJF",
        "outputId": "916cdd3f-69c1-4945-936b-ebe8a6889afb"
      },
      "source": [
        "print(df1.loc[1])"
      ],
      "execution_count": 199,
      "outputs": [
        {
          "output_type": "stream",
          "text": [
            "0    401.30405139297\n",
            "1    2502.2886750558\n",
            "2    2658.3297134578\n",
            "3    2591.6810936422\n",
            "4                NaN\n",
            "5                NaN\n",
            "6                NaN\n",
            "7                NaN\n",
            "8                NaN\n",
            "Name: 1, dtype: object\n"
          ],
          "name": "stdout"
        }
      ]
    },
    {
      "cell_type": "code",
      "metadata": {
        "id": "f7pH5csRQzvw"
      },
      "source": [
        "pd2 = df1.concat()"
      ],
      "execution_count": null,
      "outputs": []
    }
  ]
}